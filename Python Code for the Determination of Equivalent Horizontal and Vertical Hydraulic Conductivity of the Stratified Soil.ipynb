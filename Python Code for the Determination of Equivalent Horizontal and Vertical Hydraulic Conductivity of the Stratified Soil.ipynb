{
 "cells": [
  {
   "cell_type": "code",
   "execution_count": null,
   "metadata": {},
   "outputs": [],
   "source": [
    "#Python Code for the Determination of Equivalent Horizontal and Vertical Hydraulic Conductivity of the Stratified Soil\n",
    "\n",
    "#Python Codes for Civil Engineering Software/Programs, Soil Mechanics and Geotechnical Engineering\n",
    "\n",
    "#Soil can have different hydraulic conductivity in its different layers, because different layers can have different sizes of soil particles, and different structure. The soil permeability formulae used to find out the equivalent horizontal and vertical hydraulic conductivity are as given below.\n",
    "\n",
    "#\n",
    " #kx = (Keq)h = (k1H1 + k2H2 + k3H3 + ....KnHn)/H  (For horizontal Conductivity) \n",
    " #ky =  H / [H1/k1 + H2/k2 + ... + Hn/kn]   (ForVertical hydraulic Conductivity) \n"
   ]
  },
  {
   "cell_type": "code",
   "execution_count": null,
   "metadata": {},
   "outputs": [],
   "source": [
    "#These formulas are used to form the Python code given below. It doesn’t use any module, hence there is no need to import anything into this program. However, do take care while entering the units. Make sure that hydraulic conductivity units are in same system as that of the length, for example m/s and m are in same format."
   ]
  },
  {
   "cell_type": "code",
   "execution_count": 1,
   "metadata": {},
   "outputs": [
    {
     "name": "stdout",
     "output_type": "stream",
     "text": [
      "n, number of layers = 3\n",
      "unit of length = meter\n",
      " Hydraulic conductivity For layer1: \n",
      "0.003\n",
      " Depth of layer1: \n",
      "3.0\n",
      " Hydraulic conductivity For layer2: \n",
      "0.065\n",
      " Depth of layer2: \n",
      "2.0\n",
      " Hydraulic conductivity For layer3: \n",
      "0.0007\n",
      " Depth of layer3: \n",
      "4.0\n",
      " Equivalent Horizontal Hydraulic Conductivity is given as, kx = (Keq)h = (k1H1 + k2H2 + k3H3 + ....KnHn)/H \n",
      "Putting all values, kx  = [0.003*3.0 + 0.065*2.0 + 0.0007*4.0]/9.0 = 0.016* 10^(-4) meter/s \n",
      "\n",
      " Equivalent Vertical Hydraulic Conductivity is given as, (Keq)v =  H / [H1/k1 + H2/k2 + ... + Hn/kn] \n",
      "hence, ky = 9.0/[3.0/0.003+2.0/0.065+4.0/0.0007] = 0.001 meter/s \n",
      "\n"
     ]
    }
   ],
   "source": [
    "n = int(input('n, number of layers = '))\n",
    "u_length = input('unit of length = ')\n",
    "u_hc = str(u_length) + '/s'\n",
    "HC = []\n",
    "D = []\n",
    "for i in range(n):\n",
    "    print(f' Hydraulic conductivity For layer{i+1}: ')\n",
    "    hc = float(input())\n",
    "    HC.append(hc)\n",
    "    print(f' Depth of layer{i+1}: ')\n",
    "    di =float(input())\n",
    "    D.append(di)\n",
    "\n",
    "H = sum(D)\n",
    "kh = float()\n",
    "kv = float()\n",
    "khex = str()\n",
    "kvex = str()\n",
    "for i in range(n):\n",
    "    kh = kh + HC[i] * D[i]\n",
    "    kv = kv + D[i]/HC[i]\n",
    "    if i == 0:\n",
    "        khex = khex + str(HC[i]) + '*' + str(D[i])\n",
    "        kvex = kvex + str(D[i]) + '/' + str(HC[i])\n",
    "    else:\n",
    "        khex = khex + ' + ' + str(HC[i]) + '*' + str(D[i])\n",
    "        kvex = kvex + '+' + str(D[i]) + '/' + str(HC[i])\n",
    "\n",
    "khex = '['+ khex + ']'+ '/' + str(H)\n",
    "kvex = str(H) + '/' +'[' + kvex + ']'\n",
    "\n",
    "kx = kh / H\n",
    "ky = H/kv\n",
    "print(f' Equivalent Horizontal Hydraulic Conductivity is given as, kx = (Keq)h = (k1H1 + k2H2 + k3H3 + ....KnHn)/H \\n'\n",
    "      f'Putting all values, kx  = {khex} = {round(kx, 3)}* 10^(-4) {u_hc} \\n')\n",
    "\n",
    "print(f' Equivalent Vertical Hydraulic Conductivity is given as, (Keq)v =  H / [H1/k1 + H2/k2 + ... + Hn/kn] \\n'\n",
    "      f'hence, ky = {kvex} = {round(ky, 3)} {u_hc} \\n')"
   ]
  },
  {
   "cell_type": "code",
   "execution_count": null,
   "metadata": {},
   "outputs": [],
   "source": []
  }
 ],
 "metadata": {
  "celltoolbar": "Raw Cell Format",
  "kernelspec": {
   "display_name": "Python 3",
   "language": "python",
   "name": "python3"
  },
  "language_info": {
   "codemirror_mode": {
    "name": "ipython",
    "version": 3
   },
   "file_extension": ".py",
   "mimetype": "text/x-python",
   "name": "python",
   "nbconvert_exporter": "python",
   "pygments_lexer": "ipython3",
   "version": "3.8.5"
  }
 },
 "nbformat": 4,
 "nbformat_minor": 4
}
